{
 "cells": [
  {
   "cell_type": "markdown",
   "metadata": {},
   "source": [
    "# Ejercicio 1: Funciones y argumentos"
   ]
  },
  {
   "cell_type": "code",
   "execution_count": 14,
   "metadata": {},
   "outputs": [],
   "source": [
    "def gasReport(main, hydrogen, external):\n",
    "    average = (main + hydrogen + external) / 3\n",
    "    return f\"\"\"Gas Report:\n",
    "    Total Average: {average}\n",
    "    Main Tank: {main}\n",
    "    Hydrogen Tank: {hydrogen}\n",
    "    External Tank : {external}\n",
    "    \"\"\""
   ]
  },
  {
   "cell_type": "code",
   "execution_count": 15,
   "metadata": {},
   "outputs": [
    {
     "name": "stdout",
     "output_type": "stream",
     "text": [
      "Gas Report:\n",
      "    Total Average: 84.66666666666667\n",
      "    Main Tank: 90\n",
      "    Hydrogen Tank: 88\n",
      "    External Tank : 76\n",
      "    \n"
     ]
    }
   ],
   "source": [
    "print(gasReport(90,88,76))"
   ]
  },
  {
   "cell_type": "code",
   "execution_count": 16,
   "metadata": {},
   "outputs": [],
   "source": [
    "def gasAverage(tankValues):\n",
    "    totalGas = sum(tankValues)\n",
    "    average = totalGas / len(tankValues)\n",
    "    return average"
   ]
  },
  {
   "cell_type": "code",
   "execution_count": 17,
   "metadata": {},
   "outputs": [
    {
     "name": "stdout",
     "output_type": "stream",
     "text": [
      "Gas Report:\n",
      "    Total Average: 84.66666666666667\n",
      "    Main Tank: 93\n",
      "    Hydrogen Tank: 83\n",
      "    External Tank : 78\n",
      "    \n"
     ]
    }
   ],
   "source": [
    "def gasReport(main, hydrogen, external):\n",
    "    return f\"\"\"Gas Report:\n",
    "    Total Average: {gasAverage([main, hydrogen, external])}\n",
    "    Main Tank: {main}\n",
    "    Hydrogen Tank: {hydrogen}\n",
    "    External Tank : {external}\n",
    "    \"\"\"\n",
    "\n",
    "print(gasReport(93,83,78))"
   ]
  }
 ],
 "metadata": {
  "interpreter": {
   "hash": "e8e99482861fff8528f14c93842d611a3711778195128931c1196a878960aadf"
  },
  "kernelspec": {
   "display_name": "Python 3.10.2 64-bit (windows store)",
   "language": "python",
   "name": "python3"
  },
  "language_info": {
   "codemirror_mode": {
    "name": "ipython",
    "version": 3
   },
   "file_extension": ".py",
   "mimetype": "text/x-python",
   "name": "python",
   "nbconvert_exporter": "python",
   "pygments_lexer": "ipython3",
   "version": "3.10.2"
  },
  "orig_nbformat": 4
 },
 "nbformat": 4,
 "nbformat_minor": 2
}
