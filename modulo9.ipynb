{
 "cells": [
  {
   "cell_type": "markdown",
   "metadata": {},
   "source": [
    "# Ejercicio 1: Funciones y argumentos"
   ]
  },
  {
   "cell_type": "code",
   "execution_count": 29,
   "metadata": {},
   "outputs": [],
   "source": [
    "def gasReport(main, hydrogen, external):\n",
    "    average = (main + hydrogen + external) / 3\n",
    "    return f\"\"\"Gas Report:\n",
    "    Total Average: {average}\n",
    "    Main Tank: {main}\n",
    "    Hydrogen Tank: {hydrogen}\n",
    "    External Tank : {external}\n",
    "    \"\"\""
   ]
  },
  {
   "cell_type": "code",
   "execution_count": 30,
   "metadata": {},
   "outputs": [
    {
     "name": "stdout",
     "output_type": "stream",
     "text": [
      "Gas Report:\n",
      "    Total Average: 84.66666666666667\n",
      "    Main Tank: 90\n",
      "    Hydrogen Tank: 88\n",
      "    External Tank : 76\n",
      "    \n"
     ]
    }
   ],
   "source": [
    "print(gasReport(90,88,76))"
   ]
  },
  {
   "cell_type": "code",
   "execution_count": 31,
   "metadata": {},
   "outputs": [],
   "source": [
    "def gasAverage(tankValues):\n",
    "    totalGas = sum(tankValues)\n",
    "    average = totalGas / len(tankValues)\n",
    "    return average"
   ]
  },
  {
   "cell_type": "code",
   "execution_count": 32,
   "metadata": {},
   "outputs": [
    {
     "name": "stdout",
     "output_type": "stream",
     "text": [
      "Gas Report:\n",
      "    Total Average: 84.66666666666667\n",
      "    Main Tank: 93\n",
      "    Hydrogen Tank: 83\n",
      "    External Tank : 78\n",
      "    \n"
     ]
    }
   ],
   "source": [
    "def gasReport(main, hydrogen, external):\n",
    "    return f\"\"\"Gas Report:\n",
    "    Total Average: {gasAverage([main, hydrogen, external])}\n",
    "    Main Tank: {main}\n",
    "    Hydrogen Tank: {hydrogen}\n",
    "    External Tank : {external}\n",
    "    \"\"\"\n",
    "\n",
    "print(gasReport(93,83,78))"
   ]
  },
  {
   "cell_type": "markdown",
   "metadata": {},
   "source": [
    "# Ejercicio 2: Palabras Clave"
   ]
  },
  {
   "cell_type": "code",
   "execution_count": 33,
   "metadata": {},
   "outputs": [
    {
     "name": "stdout",
     "output_type": "stream",
     "text": [
      "Mission Report:\n",
      "    Destinatio: International Space Station (ISS)\n",
      "    Mission Flight Time: 420 minutes\n",
      "    Remaining Fuel: 33000 gallons\n",
      "    \n"
     ]
    }
   ],
   "source": [
    "def missionReport(destination, exteranlTank, mainTank, preLaunchTime, flightTime):\n",
    "    return f\"\"\"Mission Report:\n",
    "    Destinatio: {destination}\n",
    "    Mission Flight Time: {preLaunchTime + flightTime} minutes\n",
    "    Remaining Fuel: {mainTank + exteranlTank} gallons\n",
    "    \"\"\"\n",
    "    \n",
    "print(missionReport('International Space Station (ISS)', 13000, 20000, 240, 180))"
   ]
  },
  {
   "cell_type": "code",
   "execution_count": 34,
   "metadata": {},
   "outputs": [
    {
     "name": "stdout",
     "output_type": "stream",
     "text": [
      "\n",
      "    Mission Report:\n",
      "    \t Mission Destination: International Space Station (ISS)\n",
      "    \t Mission Flight Time: 420 minutes\n",
      "    \t Mission Remaining Fuel: 33000\n",
      "    \t\t Main Tank: 20000 gallons left \n",
      "\t\t External Tank: 13000 gallons left \n",
      "\n"
     ]
    }
   ],
   "source": [
    "def missionReport(destination, *minutes, **fuelReservoir):\n",
    "    mainReport = f\"\"\"\n",
    "    Mission Report:\n",
    "    \\t Mission Destination: {destination}\n",
    "    \\t Mission Flight Time: {sum(minutes)} minutes\n",
    "    \\t Mission Remaining Fuel: {sum(fuelReservoir.values())}\n",
    "    \"\"\"\n",
    "\n",
    "    for nameTank, gallongsInTank in fuelReservoir.items():\n",
    "        mainReport += f\"\\t\\t {nameTank} Tank: {gallongsInTank} gallons left \\n\"\n",
    "    \n",
    "    return mainReport\n",
    "\n",
    "print(missionReport('International Space Station (ISS)', 240, 180, Main = 20000, External = 13000))    "
   ]
  }
 ],
 "metadata": {
  "interpreter": {
   "hash": "e8e99482861fff8528f14c93842d611a3711778195128931c1196a878960aadf"
  },
  "kernelspec": {
   "display_name": "Python 3.10.2 64-bit (windows store)",
   "language": "python",
   "name": "python3"
  },
  "language_info": {
   "codemirror_mode": {
    "name": "ipython",
    "version": 3
   },
   "file_extension": ".py",
   "mimetype": "text/x-python",
   "name": "python",
   "nbconvert_exporter": "python",
   "pygments_lexer": "ipython3",
   "version": "3.10.2"
  },
  "orig_nbformat": 4
 },
 "nbformat": 4,
 "nbformat_minor": 2
}
