{
 "cells": [
  {
   "cell_type": "code",
   "execution_count": 1,
   "metadata": {},
   "outputs": [
    {
     "name": "stdout",
     "output_type": "stream",
     "text": [
      "¡Look up! ¡Hay una luz magica en el cielo!\n"
     ]
    }
   ],
   "source": [
    "speed_asteroid = 25\n",
    "size_asteroid = 40\n",
    "\n",
    "if speed_asteroid > 25 and size_asteroid > 25:\n",
    "    print(\"¡Alerta! ¡Un asteroide peligroso se acera a la Tierra!\")\n",
    "elif speed_asteroid >= 20:\n",
    "    print(\"¡Look up! ¡Hay una luz magica en el cielo!\")\n",
    "elif size_asteroid < 25:\n",
    "    print(\"Nada que ver aqui\")\n",
    "else:\n",
    "    print(\"Nada que ver aqui\")"
   ]
  }
 ],
 "metadata": {
  "interpreter": {
   "hash": "e8e99482861fff8528f14c93842d611a3711778195128931c1196a878960aadf"
  },
  "kernelspec": {
   "display_name": "Python 3.10.2 64-bit (windows store)",
   "language": "python",
   "name": "python3"
  },
  "language_info": {
   "codemirror_mode": {
    "name": "ipython",
    "version": 3
   },
   "file_extension": ".py",
   "mimetype": "text/x-python",
   "name": "python",
   "nbconvert_exporter": "python",
   "pygments_lexer": "ipython3",
   "version": "3.10.2"
  },
  "orig_nbformat": 4
 },
 "nbformat": 4,
 "nbformat_minor": 2
}
