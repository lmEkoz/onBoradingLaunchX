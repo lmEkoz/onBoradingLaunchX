{
 "cells": [
  {
   "cell_type": "markdown",
   "metadata": {},
   "source": [
    "# Ejercicio 1: Transformar cadenas"
   ]
  },
  {
   "cell_type": "code",
   "execution_count": 206,
   "metadata": {},
   "outputs": [],
   "source": [
    "text = \"\"\"Interesting facts about the Moon. The Moon is Earth's only satellite. There are several interesting facts about the Moon and how it affects life here on Earth. \n",
    "On average, the Moon moves 4cm away from the Earth every year. This yearly drift is not significant enough to cause immediate effects on Earth. The highest daylight temperature of the Moon is 127 C.\"\"\""
   ]
  },
  {
   "cell_type": "code",
   "execution_count": 207,
   "metadata": {},
   "outputs": [
    {
     "data": {
      "text/plain": [
       "['Interesting facts about the Moon',\n",
       " \" The Moon is Earth's only satellite\",\n",
       " ' There are several interesting facts about the Moon and how it affects life here on Earth',\n",
       " ' \\nOn average, the Moon moves 4cm away from the Earth every year',\n",
       " ' This yearly drift is not significant enough to cause immediate effects on Earth',\n",
       " ' The highest daylight temperature of the Moon is 127 C',\n",
       " '']"
      ]
     },
     "execution_count": 207,
     "metadata": {},
     "output_type": "execute_result"
    }
   ],
   "source": [
    "paragraphs = text.split('.')\n",
    "paragraphs\n"
   ]
  },
  {
   "cell_type": "code",
   "execution_count": null,
   "metadata": {},
   "outputs": [],
   "source": []
  },
  {
   "cell_type": "code",
   "execution_count": 208,
   "metadata": {},
   "outputs": [
    {
     "name": "stdout",
     "output_type": "stream",
     "text": [
      " \n",
      "On average, the Moon moves 4cm away from the Earth every year\n",
      " The highest daylight temperature of the Moon is 127 C\n"
     ]
    }
   ],
   "source": [
    "#Crear una varaiable para definir key_words\n",
    "keyWords = ['average', 'temperature', 'distance']\n",
    "\n",
    "for i in paragraphs:\n",
    "    for j in keyWords:\n",
    "        if j in i:\n",
    "            print(i)\n",
    "            break\n",
    "            \n",
    "\n",
    "\n",
    "#Notese que la palabra 'average' no se imprime debido a la ','                  \n"
   ]
  },
  {
   "cell_type": "code",
   "execution_count": 209,
   "metadata": {},
   "outputs": [
    {
     "name": "stdout",
     "output_type": "stream",
     "text": [
      " \n",
      "On average, the Moon moves 4cm away from the Earth every year\n",
      " The highest daylight temperature of the Moon is 127 Celsius\n"
     ]
    }
   ],
   "source": [
    "for i in paragraphs:\n",
    "    for j in keyWords:\n",
    "        if j in i:\n",
    "            print(i.replace('C', 'Celsius'))\n",
    "            break"
   ]
  },
  {
   "cell_type": "markdown",
   "metadata": {},
   "source": [
    "# Ejercicio 2: Formateando Cadenas"
   ]
  },
  {
   "cell_type": "code",
   "execution_count": 210,
   "metadata": {},
   "outputs": [],
   "source": [
    "name = \"Moon\"\n",
    "gravity = 0.00162 \n",
    "planet = \"Earth\""
   ]
  },
  {
   "cell_type": "code",
   "execution_count": 211,
   "metadata": {},
   "outputs": [
    {
     "name": "stdout",
     "output_type": "stream",
     "text": [
      "Gravity Facts on Moon\n"
     ]
    }
   ],
   "source": [
    "print('Gravity Facts on', name)\n",
    "\n",
    "title = f'Gravity Facts on {name}'\n"
   ]
  },
  {
   "cell_type": "code",
   "execution_count": 212,
   "metadata": {},
   "outputs": [
    {
     "name": "stdout",
     "output_type": "stream",
     "text": [
      "---------------------------------------------\n",
      "Planet: Earth\n",
      "Gravity on Earth: 1.6199999999999999 m/s^2\n",
      "Name: Moon\n"
     ]
    }
   ],
   "source": [
    "gravity *= 1000\n",
    "facts = f\"\"\"{'-' * 45}\n",
    "Planet: {planet}\n",
    "Gravity on {planet}: {gravity} m/s^2\n",
    "Name: {name}\"\"\"\n",
    "print(facts)"
   ]
  },
  {
   "cell_type": "code",
   "execution_count": 213,
   "metadata": {},
   "outputs": [],
   "source": [
    "template = f\"\"\"{title.title()}\n",
    "{facts}\"\"\""
   ]
  },
  {
   "cell_type": "code",
   "execution_count": 214,
   "metadata": {},
   "outputs": [
    {
     "name": "stdout",
     "output_type": "stream",
     "text": [
      "Gravity Facts On Moon\n",
      "---------------------------------------------\n",
      "Planet: Earth\n",
      "Gravity on Earth: 1.6199999999999999 m/s^2\n",
      "Name: Moon\n"
     ]
    }
   ],
   "source": [
    "print(template)"
   ]
  },
  {
   "cell_type": "code",
   "execution_count": 221,
   "metadata": {},
   "outputs": [],
   "source": [
    "name = \"Gaminides\"\n",
    "gravity = 0.00143 \n",
    "planet = \"Mars\"\n",
    "\n",
    "gravity *= 1000"
   ]
  },
  {
   "cell_type": "code",
   "execution_count": 222,
   "metadata": {},
   "outputs": [
    {
     "name": "stdout",
     "output_type": "stream",
     "text": [
      "\n",
      "Gravity Facts on Gaminides\n",
      "---------------------------------------------\n",
      "Planet: Mars\n",
      "Gravity on Gaminides: 0.00143 m/s^2\n",
      "Name: Gaminides\n"
     ]
    }
   ],
   "source": [
    "newTemplate = \"\"\"\n",
    "Gravity Facts on {name}\n",
    "---------------------------------------------\n",
    "Planet: {planet}\n",
    "Gravity on {name}: {gravity} m/s^2\n",
    "Name: {name}\"\"\"\n",
    "\n",
    "print(newTemplate.format(planet=planet, gravity=gravity, name=name))"
   ]
  }
 ],
 "metadata": {
  "interpreter": {
   "hash": "e8e99482861fff8528f14c93842d611a3711778195128931c1196a878960aadf"
  },
  "kernelspec": {
   "display_name": "Python 3.10.2 64-bit (windows store)",
   "language": "python",
   "name": "python3"
  },
  "language_info": {
   "codemirror_mode": {
    "name": "ipython",
    "version": 3
   },
   "file_extension": ".py",
   "mimetype": "text/x-python",
   "name": "python",
   "nbconvert_exporter": "python",
   "pygments_lexer": "ipython3",
   "version": "3.10.2"
  },
  "orig_nbformat": 4
 },
 "nbformat": 4,
 "nbformat_minor": 2
}
